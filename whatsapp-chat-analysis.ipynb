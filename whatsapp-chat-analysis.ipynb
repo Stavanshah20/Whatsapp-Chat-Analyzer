{
 "cells": [
  {
   "cell_type": "code",
   "execution_count": 2,
   "metadata": {},
   "outputs": [],
   "source": [
    "import re   # regular expression\n",
    "import pandas as pd     # data processing, CSV file I/O (e.g. pd.read_csv)"
   ]
  },
  {
   "cell_type": "code",
   "execution_count": 4,
   "metadata": {},
   "outputs": [
    {
     "data": {
      "text/plain": [
       "\"05/10/23, 12:34\\u202fpm - Rhea Sharma: Hey Neha! How's it going?\\n\\n05/10/23, 12:35\\u202fpm - Neha Gupta: Hey Rhea! I'm good. Just working today. How about you? Any plans for the long weekend?\\n\\n05/10/23, 12:36\\u202fpm - Rhea Sharma: Nothing much planned yet. We should do something fun though! Are you free?\\n\\n05/10/23, 12:37\\u202fpm - Neha Gupta: Yes I'm free! We definitely should plan a little getaway trip somewhere. Any ideas?\\n\\n05/10/23, 12:39\\u202fpm - Rhea Sharma: Hmm maybe we could go to Goa? The beaches would be nice this time of year.\\n\\n05/10/23, 12:41\\u202fpm - Neha Gupta: Goa sounds great! We could relax on the beach and party a little at night haha. When should we go?\\n\\n05/10/23, 12:42\\u202fpm - Rhea Sharma: Let's go this weekend! I can look for flights and hotels tonight.\\n\\n05/10/23, 12:44\\u202fpm - Neha Gupta: Amazing, book it! Can't wait for a girls trip, we need a vacation!\\n\\n05/10/23, 5:21\\u202fpm - Rhea Sharma: Hey, I booked our flights and hotel! We're all set for Goa this weekend.\\n\\n05/10/23, 5:23\\u202fpm - Neha Gupta: Yay! Thanks for booking everything. What time is our flight? And which hotel?\\n\\n05/10/23, 5:24\\u202fpm - Rhea Sharma: Our flight is at 9am on Saturday morning. And the hotel is the Grand Hyatt in North Goa. Has great reviews!\\n\\n05/10/23, 5:26\\u202fpm - Neha Gupta: Sounds good! What should we pack? Beach clothes and party outfits I'm guessing?\\n\\n05/10/23, 5:28\\u202fpm - Rhea Sharma: Yes, bikinis, cover ups, sundresses! And heels and cute tops for clubbing. Don't forget sunscreen!\\n\\n05/10/23, 5:30\\u202fpm - Neha Gupta: Got it. I'm so excited, we're going to have the best time! Should we book any activities?\\n\\n05/10/23, 5:32\\u202fpm - Rhea Sharma: Hm we could book a boat cruise one day to see the islands. And maybe parasailing! We'll plan the activities when we get there.\\n\\n05/10/23, 5:34\\u202fpm - Neha Gupta: Good idea, we can decide once we see what's available. Let's meet Friday evening to pack?\\n\\n05/10/23, 5:35\\u202fpm - Rhea Sharma: Sounds good! I'll come to your place after work around 6. This trip is going to be amazing!!\\n\\n05/10/23, 5:36\\u202fpm - Neha Gupta: Woohoo Goa 2023 here we come!! See you Friday :)\\n\\n07/10/23, 10:21\\u202fam - Rhea Sharma: Good morning! How was the first night in Goa?\\n\\n07/10/23, 10:23\\u202fam - Neha Gupta: GM! It was fabulous. The hotel is so nice and our room has an awesome view. How about you?\\n\\n07/10/23, 10:25\\u202fam - Rhea Sharma: I slept like a baby! My room is great too. Should we grab breakfast at the hotel cafe?\\n\\n07/10/23, 10:27\\u202fam - Neha Gupta: Yes I'm starving! Meet you there in 10? Then we can head to the beach.\\n\\n07/10/23, 10:30\\u202fam - Rhea Sharma: Sounds good, see you soon!\\n\\n07/10/23, 1:34\\u202fpm - Neha Gupta: The beach was so much fun today! That lunch by the shack was delicious.\\n\\n07/10/23, 1:36\\u202fpm - Rhea Sharma: I know right! The seafood was so fresh. We really needed this beach vacation.\\n\\n07/10/23, 1:37\\u202fpm - Neha Gupta: Yes we work so hard, it's nice to just relax! What should we do for dinner tonight?\\n\\n07/10/23, 1:40\\u202fpm - Rhea Sharma: Hmm maybe we could check out that night market and street food stalls?\\n\\n07/10/23, 1:41\\u202fpm - Neha Gupta: Oooh that sounds fun! We can try a bunch of local dishes. I'm in!\\n\\n07/10/23, 1:42\\u202fpm - Rhea Sharma: Let's do it! We have to try the Goan fish curry and vindaloo. My mouth is watering just thinking about it!\\n\\n07/10/23, 1:43\\u202fpm - Neha Gupta: Great idea, I can't wait! Let's meet in the lobby at 8 pm?\\n\\n07/10/23, 1:44\\u202fpm - Rhea Sharma: Sounds good! Enjoy the rest of our beach day, see you tonight!\\n\\n07/10/23, 11:34\\u202fpm - Neha Gupta: Omg that street food was incredible! I ate way too much haha\\n\\n07/10/23, 11:35\\u202fpm - Rhea Sharma: Me too, that was such a fun experience! The live music was so good as well.\\n\\n07/10/23, 11:37\\u202fpm - Neha Gupta: Yes! The vibe was so lively. I'm glad we decided to check it out. What's the plan for tomorrow?\\n\\n07/10/23, 11:39\\u202fpm - Rhea Sharma: Let's take it easy in the morning after all that food. Maybe a boat cruise at noon?\\n\\n07/10/23, 11:41\\u202fpm - Neha Gupta: Boat cruise sounds perfect! Maybe we can pack a picnic lunch from the hotel.\\n\\n07/10/23, 11:42\\u202fpm - Rhea Sharma: Good idea! Let's do that. Get some rest, chat tomorrow :)\\n\\n08/10/23, 11:04\\u202fam - Rhea Sharma: Good morning! I'm ready whenever you are for the boat cruise.\\n\\n08/10/23, 11:06\\u202fam - Neha Gupta: GM! I just got ready, let's meet in the lobby in 10 mins? Our picnic basket is ready too.\\n\\n08/10/23, 11:07\\u202fam - Rhea Sharma: Sounds good see you soon! This is going to be so much fun!\\n\\n08/10/23, 4:21\\u202fpm - Neha Gupta: That cruise was amazing! The islands were so beautiful.\\n\\n08/10/23, 4:22\\u202fpm - Rhea Sharma: I know right! Going swimming in that cove with the clear water was the highlight.\\n\\n08/10/23, 4:24\\u202fpm - Neha Gupta: Yes that was incredible. This trip has been so great already! What now?\\n\\n08/10/23, 4:26\\u202fpm - Rhea Sharma: Hmm want to check out the nightlife tonight? We could bar hop and dance!\\n\\n08/10/23, 4:27\\u202fpm - Neha Gupta: I'm so down for that!! Let's get dressed up. I saw some cool rooftop bars and clubs.\\n\\n08/10/23, 4:28\\u202fpm - Rhea Sharma: Yay let's do it! Meet in the lobby at 10pm? Then we can party the night away!\\n\\n08/10/23, 4:29\\u202fpm - Neha Gupta: Sounds perfect, can't wait! See you at 10!\\n\\n09/10/23, 1:34\\u202fam - Rhea Sharma: Wow last night was wild! My feet are killing me from all the dancing haha\\n\\n09/10/23, 1:36\\u202fam - Neha Gupta: Omg I'm exhausted too but it was so worth it! We raged until 4am lol. Let's sleep in today.\\n\\n09/10/23, 1:37\\u202fam - Rhea Sharma: Yes! Room service breakfast in bed kind of day. Just relax and recover today.\\n\\n09/10/23, 1:38\\u202fam - Neha Gupta: Perfect plan! Goodnight, talk tomorrow when we're alive again lol\\n\\n09/10/23, 12:04\\u202fpm - Neha Gupta: Good afternoon! I'm finally feeling awake haha. Last night was epic.\\n\\n09/10/23, 12:06\\u202fpm - Rhea Sharma: Hey! I know, we really packed in the full Goa experience. What's left on our list before we leave?\\n\\n09/10/23, 12:08\\u202fpm - Neha Gupta: Hm I think we've done everything! Maybe a chill beach evening today? Cocktails and sunset?\\n\\n09/10/23, 12:10\\u202fpm - Rhea Sharma: That sounds so nice! A relaxing last day. I'll meet you on the beach around 5?\\n\\n09/10/23, 12:11\\u202fpm - Neha Gupta: Perfect! Can't wait. This trip went by too fast but it was exactly what we needed!\\n\\n09/10/23, 12:12\\u202fpm - Rhea Sharma: So true, it was the best getaway! Back to real life tomorrow but at least we're tan and rested now haha.\\n\\n09/10/23, 12:13\\u202fpm - Neha Gupta: Haha yes! Let's plan another trip soon, maybe the mountains next!\\n\\n09/10/23, 12:14\\u202fpm - Rhea Sharma: Oooh yes, that would be amazing! Can't wait for our next adventure :) See you at 5!\\n\\n09/10/23, 5:45\\u202fpm - Rhea Sharma: That was such a beautiful sunset! The perfect ending to our Goa trip.\\n\\n09/10/23, 5:47\\u202fpm - Neha Gupta: I know, it was gorgeous! And the cocktails were so refreshing. I'm sad we have to head home tomorrow.\\n\\n09/10/23, 5:49\\u202fpm - Rhea Sharma: Me too, this was exactly the girls getaway we needed. We'll have to plan the next one soon!\\n\\n09/10/23, 5:51\\u202fpm - Neha Gupta: Absolutely! Maybe we can do a Europe trip next year? I've always wanted to see Spain.\\n\\n09/10/23, 5:53\\u202fpm - Rhea Sharma: Spain sounds incredible! We could hit up Ibiza too for the nightlife. Let's start planning!\\n\\n09/10/23, 5:55\\u202fpm - Neha Gupta: Yay! We could do Barcelona, Madrid, Ibiza... maybe even Italy too! I'm so excited already.\\n\\n09/10/23, 5:57\\u202fpm - Rhea Sharma: Amazing idea! We'll make an epic 2 week Eurotrip itinerary. This gives me something to look forward to!\\n\\n09/10/23, 5:59\\u202fpm - Neha Gupta: Me too! We have to start researching flights and hotels. European vacation 2024 here we come!\\n\\n09/10/23, 6:01\\u202fpm - Rhea Sharma: Woo! This Goa trip may be over but now we have our next adventure to plan. Thanks for always being the best travel buddy!\\n\\n09/10/23, 6:03\\u202fpm - Neha Gupta: Aww thanks! You're the best too, I can't wait for our next getaway. See you tomorrow for our flight!\\n\\n09/10/23, 6:05\\u202fpm - Rhea Sharma: Can't wait! Have a good night. Next stop - Europe! 🛫✈️🌍\\n\\n09/10/23, 6:07\\u202fpm - Neha Gupta: Goodnight! EU trip planning starts as soon as we're back! 😀💃🏻🕺🏻\\n\\n10/10/23, 9:34\\u202fam - Rhea Sharma: Morning! How was your flight back? I'm already missing Goa.\\n\\n10/10/23, 9:36\\u202fam - Neha Gupta: Hey! Flight was fine, though it's sad to be back. At least we have Europe planning to look forward to!\\n\\n10/10/23, 9:38\\u202fam - Rhea Sharma: Yes, that's the perfect antidote to post-vacation blues! Let's video chat tonight to discuss?\\n\\n10/10/23, 9:40\\u202fam - Neha Gupta: Sounds good! Let's look up flight options and start deciding which cities to visit. This is so exciting!\\n\\n10/10/23, 7:12\\u202fpm - Video call between Rhea and Neha\\n\\n10/10/23, 9:24\\u202fpm - Rhea Sharma: That was a great planning session! I'm feeling inspired.\\n\\n10/10/23, 9:26\\u202fpm - Neha Gupta: Me too! Looks like we can get a pretty good deal on flights if we book in advance.\\n\\n10/10/23, 9:28\\u202fpm - Rhea Sharma: Yes, and I love the cities we picked! Barcelona, Madrid, Paris, Venice, Rome!\\n\\n10/10/23, 9:30\\u202fpm - Neha Gupta: It's going to be the trip of a lifetime! Let's start looking for Airbnbs in each city.\\n\\n10/10/23, 9:32\\u202fpm - Rhea Sharma: Good idea. Should we do 3 nights in each or mix it up? I'm leaning towards 3 everywhere.\\n\\n10/10/23, 9:34\\u202fpm - Neha Gupta: Yeah 3 nights sounds good, enough time to see the sights without rushing too much.\\n\\n11/10/23, 10:21\\u202fam - Rhea Sharma: Found some great Airbnb options for each city! Sending you links to look through.\\n\\n11/10/23, 10:23\\u202fam - Neha Gupta: Checking now! These apartments are so cute. Love the ones with balconies and rooftop access.\\n\\n11/10/23, 10:25\\u202fam - Rhea Sharma: I know right? And way cheaper than hotels! Should we go ahead and book them?\\n\\n11/10/23, 10:27\\u202fam - Neha Gupta: Let's do it! I'm too excited, I wanna lock this trip in. We can sort flights next.\\n\\n11/10/23, 10:29\\u202fam - Rhea Sharma: Amazing! Just booked all our Airbnbs, this is really happening!! 🎉🎊\\n\\n12/10/23, 7:45\\u202fpm - Neha Gupta: Hey! Wanted your opinion - I found a pretty good deal on flights if we go in May instead of April.\\n\\n12/10/23, 7:47\\u202fpm - Rhea Sharma: Ooh May could work! The weather might be nicer too. Did you find direct flights?\\n\\n12/10/23, 7:49\\u202fpm - Neha Gupta: Yup direct from Delhi to Barcelona then Venice to Paris etc. Want me to book?\\n\\n12/10/23, 7:50\\u202fpm - Rhea Sharma: Yes let's do it! Locking in flights will make this feel so real. May can't come soon enough!\\n\\n12/10/23, 7:53\\u202fpm - Neha Gupta: Yay it's booked! Europe 2024 is officially happening!! 😄🥳 Can't wait to explore with my favourite travel buddy!\\n\\n13/10/23, 12:34\\u202fpm - Rhea Sharma: You know what we should do? Make a shared Pinterest board to pin places we want to see, food to eat, outfits to pack!\\n\\n13/10/23, 12:36\\u202fpm - Neha Gupta: Oooh smart idea! We can use it to plan out each city. Let me make one!\\n\\n13/10/23, 5:45\\u202fpm - Neha Gupta: Created our Europe 2024 Pinterest board! Let the pinning commence: https://www.pinterest.com/neharxo345/europe-2024/\\n\\n13/10/23, 5:47\\u202fpm - Rhea Sharma: Yay this is perfect! Already finding so many great restaurants and photo ops. Pinning away now!\\n\\n14/10/23, 9:12\\u202fam - Rhea Sharma: Obsessed with our Pinterest board! Can't stop pinning all the things. This trip is going to be epic.\\n\\n14/10/23, 9:14\\u202fam - Neha Gupta: I know right? It's the perfect trip planning tool. 7 months to go! Better start prepping those outfits.\\n\\n14/10/23, 9:16\\u202fam - Rhea Sharma: Yes! Time to hit the shops this weekend for cute Eurotrip clothes inspo. Drinks later to celebrate?\\n\\n14/10/23, 9:18\\u202fam - Neha Gupta: I'm in! Cocktail cheers to Europe 2024! 🍹 See you tonight at 8?\\n\\n15/10/23, 11:04\\u202fam - Neha Gupta: Last night was so much fun! The cocktail toast to our trip was perfect. Only 6 months to go now! 🥂✈️\\n\\n15/10/23, 11:06\\u202fam - Rhea Sharma: I know right? It's going to fly by. At least we have the Pinterest board to obsess over in the meantime! 😄\\n\\n15/10/23, 11:08\\u202fam - Neha Gupta: Haha yes! I think you have some new outfit pins to check out from my shopping yesterday. Only the essentials, of course!\\n\\n15/10/23, 11:10\\u202fam - Rhea Sharma: Oooh can't wait to see! I added some pins too. We are going to be the most stylish travelers ever. 😎💃🏻\\n\\n16/10/23, 5:34\\u202fpm - Rhea Sharma: Can you believe it's only 5 months until Europe?! Are you all set with vacation days from work?\\n\\n16/10/23, 5:36\\u202fpm - Neha Gupta: I know, it's coming up quick! Yup got all my days approved, I'm all set. Need help booking time off?\\n\\n16/10/23, 5:38\\u202fpm - Rhea Sharma: Nope I'm good! Managed to get 2 weeks off. Now we just have to survive the next few months of waiting!\\n\\n17/10/23, 9:45\\u202fam - Neha Gupta: Morning! Had a thought - should we learn some basic French and Italian phrases before the trip? Could be helpful!\\n\\n17/10/23, 9:47\\u202fam - Rhea Sharma: That's a great idea! We should practice common travel phrases so we can navigate easily. Where should we start?\\n\\n17/10/23, 9:49\\u202fam - Neha Gupta: I found some helpful YouTube videos for Italian and French phrases/conversation. Let's watch them together this weekend?\\n\\n17/10/23, 9:51\\u202fam - Rhea Sharma: Perfect plan! We'll be chatting away with the locals in no time. Ciao bella! 😄👌🏻\\n\\n18/10/23, 8:12\\u202fpm - Rhea Sharma: 4 months to go! We should think about packing essentials so we're prepared. What do you think?\\n\\n18/10/23, 8:14\\u202fpm - Neha Gupta: Great idea! We need to pack light and smart. I was thinking packing cubes? And phone chargers with adapters!\\n\\n18/10/23, 8:16\\u202fpm - Rhea Sharma: Ooh yes, packing cubes are a must! And definitely adapters. comfort shoes too for all the walking we'll do!\\n\\n18/10/23, 8:18\\u202fpm - Neha Gupta: Very true! I'll make a notes list on my phone of stuff to pack. This trip is going to be amazing!! 😍🤩\\n\\n19/10/23, 12:34\\u202fpm - Neha Gupta: Made a packing list note for us to add to! Also need to think about booking any activities we want to do in advance.\\n\\n19/10/23, 12:36\\u202fpm - Rhea Sharma: Good thinking! Let's browse GetYourGuide for the best museums, walking tours, day trips etc for each city.\\n\\n19/10/23, 12:38\\u202fpm - Neha Gupta: Perfect, I'm on it! Will send you options to review this weekend. Safety first so we should book private airport transfers too.\\n\\n19/10/23, 12:40\\u202fpm - Rhea Sharma: Definitely, safety first! This trip planning has been so fun, 3 months feels so close. This is going to be the best girls trip!\\n\\n20/10/23, 6:45\\u202fpm - Rhea Sharma: Hey! Came across a good Eurail pass deal for train travel between cities. Should we get it?\\n\\n20/10/23, 6:47\\u202fpm - Neha Gupta: Oooh yes that would be perfect! Much easier than booking each leg separately. Is it a flexible pass?\\n\\n20/10/23, 6:49\\u202fpm - Rhea Sharma: Yup! We can choose the travel dates and routes later no problem. And unlimited train rides for 2 weeks!\\n\\n20/10/23, 6:51\\u202fpm - Neha Gupta: Amazing, let's do it! That takes care of getting around. 2 months and counting, woohoo! 🥳\\n\\n21/10/23, 10:34\\u202fam - Neha Gupta: Rise and shine! I was too excited this morning and made uslittle Europe 2024 countdown calendars! Sending you a pic 😄\\n\\n21/10/23, 10:36\\u202fam - Rhea Sharma: Omg I love this!! Now we can cross off the days till our trip. You're the best, only 50 days to go!!\\n\\n22/10/23, 9:45\\u202fpm - Rhea Sharma: Can you believe we leave in just 1 month?! I'm trying to learn some key Italian phrases but it's hard!\\n\\n22/10/23, 9:47\\u202fpm - Neha Gupta: I know, so soon! The Italian is tricky but we'll get there. Here are some easy phrase videos to watch!\\n\\n23/10/23, 12:34\\u202fpm - Neha Gupta: Look what I got us! Matching neck pillows for the long flights! Now we can nap in style 😂💤✈️\\n\\n23/10/23, 12:36\\u202fpm - Rhea Sharma: Omg yes! These are perfect, you know me so well. 25 days to go, can't wait to explore with my fave travel buddy!\\n\\n24/10/23, 8:01\\u202fpm - Rhea Sharma: Is it too early to start packing? I want to be über prepared! Maybe just organize toiletries and chargers for now.\\n\\n24/10/23, 8:03\\u202fpm - Neha Gupta: Haha go for it! I'm doing the same, gathering all my travel essentials. Only 3 weeks left, eeek!! 🤗\\n\\n25/10/23, 9:34\\u202fam - Neha Gupta: Rise and shine, beautiful! Only 2 weeks until Europe! Let's meet up tonight to finalize everything?\\n\\n25/10/23, 9:36\\u202fam - Rhea Sharma: Gooood morning! Yes, final prep tonight! Feels so close now, can't wait! 😄✈️\\n\\n25/10/23, 7:45\\u202fpm - Video call between Rhea and Neha to discuss last minute trip planing\\n\\n26/10/23, 10:12\\u202fam - Rhea Sharma: 1 week to go! Made an EPIC Europe playlist for the trip! Sending you the Spotify link.\\n\\n26/10/23, 10:14\\u202fam - Neha Gupta: Yay perfect! All our planning has paid off, can't believe we leave next week. Counting down the days! ⏳\\n\\n27/10/23, 5:34\\u202fpm - Neha Gupta: Eek 6 days left! Let's meet Sunday to do a final pack and go over all details? So excited!! 🎉\\n\\n27/10/23, 5:36\\u202fpm - Rhea Sharma: Yes! Final checks on Sunday, can't wait! Europe 2024 here we come!! 🛫✈️😍\\n\\n29/10/23, 11:21\\u202fam - Rhea Sharma: ONE more day!! See you tonight, ready for the best girls trip ever? Spain, here we come! ✌️😎🥂\\n\\n29/10/23, 11:23\\u202fam - Neha Gupta: AHHH it's actually happening!! Counting down the minutes, see you later bestie! Let the adventures begin! 💃🏻🕺🏻🌍🗼👯\\u200d♀️\\n\\n30/10/23, 9:34\\u202fam - Rhea Sharma: WE MADE IT! Bonjour Paris! First day here and already in love. The crepes and croissants deserve their own food tour.🥐😍\\n\\n30/10/23, 9:36\\u202fam - Neha Gupta: I know, this city is perfection! Next stop: the Louvre to look at art by all the French greats! Adventure awaits...💫\\n\""
      ]
     },
     "execution_count": 4,
     "metadata": {},
     "output_type": "execute_result"
    }
   ],
   "source": [
    "data = open('chats/Chat1.txt', 'r', encoding='utf-8').read()    # read the data\n",
    "data    # print the data"
   ]
  },
  {
   "cell_type": "code",
   "execution_count": 5,
   "metadata": {},
   "outputs": [],
   "source": [
    "pattern = '\\d{2}/\\d{2}/\\d{2}, \\d{1,2}:\\d{2} [ap]m - '       # pattern to find the date and time\n",
    "messages = re.split(pattern, data)[1:]      # split the data based on the pattern\n",
    "dates = re.findall(pattern, data)       # find all the dates and time\n",
    "\n",
    "df = pd.DataFrame({'user_message':messages, 'message_date': dates})     # create a dataframe with messages and dates\n",
    "# converting the message_date to date time format\n",
    "df['message_date'] = pd.to_datetime(df['message_date'], format=\"%d/%m/%y, %I:%M %p - \")         \n",
    "df.rename(columns={'message_date': 'date'}, inplace=True)       # rename the column\n",
    "\n",
    "# separate users and messages\n",
    "users = []      \n",
    "messages = []       \n",
    "for message in df['user_message']:      # loop through the messages\n",
    "    entry = re.split('([\\w\\W]+?):\\s', message)      # split the message based on the user\n",
    "    if entry[1:]:       # if the message is not empty\n",
    "        users.append(entry[1])      # append the user\n",
    "        messages.append(entry[2])       # append the message\n",
    "    else:\n",
    "        users.append('whatsapp notification')       # else append the notification\n",
    "        messages.append(entry[0])       # append the message\n",
    "\n",
    "df['user'] = users      # create a column with users\n",
    "df['message'] = messages        # create a column with messages\n",
    "df.drop(columns=['user_message'], inplace=True)     # drop the user_message column\n",
    "\n",
    "df['year'] = df['date'].dt.year     # create a column with year\n",
    "df['month_num'] = df['date'].dt.month       # create a column with month number\n",
    "df['only_date'] = df['date'].dt.date        # create a column with date\n",
    "df['day_name'] = df['date'].dt.day_name()    # create a column with day name\n",
    "df['month'] = df['date'].dt.month_name()    # create a column with month name\n",
    "df['day'] = df['date'].dt.day     # create a column with day\n",
    "df['hour'] = df['date'].dt.hour     # create a column with hour\n",
    "df['minute'] = df['date'].dt.minute    # create a column with minute\n",
    "\n",
    "period = []     # create an empty list\n",
    "for hour in df[['day_name', 'hour']]['hour']:   # loop through the hour\n",
    "    if hour == 23:      # if hour is 23\n",
    "        period.append(str(hour) + \"-\" + str('00'))      # append 23-00\n",
    "    elif hour == 0:     # if hour is 0\n",
    "        period.append(str('00') + \"-\" + str(hour + 1))      # append 00-1\n",
    "    else:       # else\n",
    "        period.append(str(hour) + \"-\" + str(hour + 1))      # append hour-hour+1\n",
    "\n",
    "df['period'] = period       # create a column with period"
   ]
  },
  {
   "cell_type": "code",
   "execution_count": 6,
   "metadata": {},
   "outputs": [
    {
     "data": {
      "text/html": [
       "<div>\n",
       "<style scoped>\n",
       "    .dataframe tbody tr th:only-of-type {\n",
       "        vertical-align: middle;\n",
       "    }\n",
       "\n",
       "    .dataframe tbody tr th {\n",
       "        vertical-align: top;\n",
       "    }\n",
       "\n",
       "    .dataframe thead th {\n",
       "        text-align: right;\n",
       "    }\n",
       "</style>\n",
       "<table border=\"1\" class=\"dataframe\">\n",
       "  <thead>\n",
       "    <tr style=\"text-align: right;\">\n",
       "      <th></th>\n",
       "      <th>date</th>\n",
       "      <th>user</th>\n",
       "      <th>message</th>\n",
       "      <th>year</th>\n",
       "      <th>month_num</th>\n",
       "      <th>only_date</th>\n",
       "      <th>day_name</th>\n",
       "      <th>month</th>\n",
       "      <th>day</th>\n",
       "      <th>hour</th>\n",
       "      <th>minute</th>\n",
       "      <th>period</th>\n",
       "    </tr>\n",
       "  </thead>\n",
       "  <tbody>\n",
       "    <tr>\n",
       "      <th>0</th>\n",
       "      <td>2023-10-05 12:34:00</td>\n",
       "      <td>Rhea Sharma</td>\n",
       "      <td>Hey Neha! How's it going?\\n\\n</td>\n",
       "      <td>2023</td>\n",
       "      <td>10</td>\n",
       "      <td>2023-10-05</td>\n",
       "      <td>Thursday</td>\n",
       "      <td>October</td>\n",
       "      <td>5</td>\n",
       "      <td>12</td>\n",
       "      <td>34</td>\n",
       "      <td>12-13</td>\n",
       "    </tr>\n",
       "    <tr>\n",
       "      <th>1</th>\n",
       "      <td>2023-10-05 12:35:00</td>\n",
       "      <td>Neha Gupta</td>\n",
       "      <td>Hey Rhea! I'm good. Just working today. How ab...</td>\n",
       "      <td>2023</td>\n",
       "      <td>10</td>\n",
       "      <td>2023-10-05</td>\n",
       "      <td>Thursday</td>\n",
       "      <td>October</td>\n",
       "      <td>5</td>\n",
       "      <td>12</td>\n",
       "      <td>35</td>\n",
       "      <td>12-13</td>\n",
       "    </tr>\n",
       "    <tr>\n",
       "      <th>2</th>\n",
       "      <td>2023-10-05 12:36:00</td>\n",
       "      <td>Rhea Sharma</td>\n",
       "      <td>Nothing much planned yet. We should do somethi...</td>\n",
       "      <td>2023</td>\n",
       "      <td>10</td>\n",
       "      <td>2023-10-05</td>\n",
       "      <td>Thursday</td>\n",
       "      <td>October</td>\n",
       "      <td>5</td>\n",
       "      <td>12</td>\n",
       "      <td>36</td>\n",
       "      <td>12-13</td>\n",
       "    </tr>\n",
       "    <tr>\n",
       "      <th>3</th>\n",
       "      <td>2023-10-05 12:37:00</td>\n",
       "      <td>Neha Gupta</td>\n",
       "      <td>Yes I'm free! We definitely should plan a litt...</td>\n",
       "      <td>2023</td>\n",
       "      <td>10</td>\n",
       "      <td>2023-10-05</td>\n",
       "      <td>Thursday</td>\n",
       "      <td>October</td>\n",
       "      <td>5</td>\n",
       "      <td>12</td>\n",
       "      <td>37</td>\n",
       "      <td>12-13</td>\n",
       "    </tr>\n",
       "    <tr>\n",
       "      <th>4</th>\n",
       "      <td>2023-10-05 12:39:00</td>\n",
       "      <td>Rhea Sharma</td>\n",
       "      <td>Hmm maybe we could go to Goa? The beaches woul...</td>\n",
       "      <td>2023</td>\n",
       "      <td>10</td>\n",
       "      <td>2023-10-05</td>\n",
       "      <td>Thursday</td>\n",
       "      <td>October</td>\n",
       "      <td>5</td>\n",
       "      <td>12</td>\n",
       "      <td>39</td>\n",
       "      <td>12-13</td>\n",
       "    </tr>\n",
       "    <tr>\n",
       "      <th>...</th>\n",
       "      <td>...</td>\n",
       "      <td>...</td>\n",
       "      <td>...</td>\n",
       "      <td>...</td>\n",
       "      <td>...</td>\n",
       "      <td>...</td>\n",
       "      <td>...</td>\n",
       "      <td>...</td>\n",
       "      <td>...</td>\n",
       "      <td>...</td>\n",
       "      <td>...</td>\n",
       "      <td>...</td>\n",
       "    </tr>\n",
       "    <tr>\n",
       "      <th>137</th>\n",
       "      <td>2023-10-27 17:36:00</td>\n",
       "      <td>Rhea Sharma</td>\n",
       "      <td>Yes! Final checks on Sunday, can't wait! Europ...</td>\n",
       "      <td>2023</td>\n",
       "      <td>10</td>\n",
       "      <td>2023-10-27</td>\n",
       "      <td>Friday</td>\n",
       "      <td>October</td>\n",
       "      <td>27</td>\n",
       "      <td>17</td>\n",
       "      <td>36</td>\n",
       "      <td>17-18</td>\n",
       "    </tr>\n",
       "    <tr>\n",
       "      <th>138</th>\n",
       "      <td>2023-10-29 11:21:00</td>\n",
       "      <td>Rhea Sharma</td>\n",
       "      <td>ONE more day!! See you tonight, ready for the ...</td>\n",
       "      <td>2023</td>\n",
       "      <td>10</td>\n",
       "      <td>2023-10-29</td>\n",
       "      <td>Sunday</td>\n",
       "      <td>October</td>\n",
       "      <td>29</td>\n",
       "      <td>11</td>\n",
       "      <td>21</td>\n",
       "      <td>11-12</td>\n",
       "    </tr>\n",
       "    <tr>\n",
       "      <th>139</th>\n",
       "      <td>2023-10-29 11:23:00</td>\n",
       "      <td>Neha Gupta</td>\n",
       "      <td>AHHH it's actually happening!! Counting down t...</td>\n",
       "      <td>2023</td>\n",
       "      <td>10</td>\n",
       "      <td>2023-10-29</td>\n",
       "      <td>Sunday</td>\n",
       "      <td>October</td>\n",
       "      <td>29</td>\n",
       "      <td>11</td>\n",
       "      <td>23</td>\n",
       "      <td>11-12</td>\n",
       "    </tr>\n",
       "    <tr>\n",
       "      <th>140</th>\n",
       "      <td>2023-10-30 09:34:00</td>\n",
       "      <td>Rhea Sharma</td>\n",
       "      <td>WE MADE IT! Bonjour Paris! First day here and ...</td>\n",
       "      <td>2023</td>\n",
       "      <td>10</td>\n",
       "      <td>2023-10-30</td>\n",
       "      <td>Monday</td>\n",
       "      <td>October</td>\n",
       "      <td>30</td>\n",
       "      <td>9</td>\n",
       "      <td>34</td>\n",
       "      <td>9-10</td>\n",
       "    </tr>\n",
       "    <tr>\n",
       "      <th>141</th>\n",
       "      <td>2023-10-30 09:36:00</td>\n",
       "      <td>Neha Gupta</td>\n",
       "      <td></td>\n",
       "      <td>2023</td>\n",
       "      <td>10</td>\n",
       "      <td>2023-10-30</td>\n",
       "      <td>Monday</td>\n",
       "      <td>October</td>\n",
       "      <td>30</td>\n",
       "      <td>9</td>\n",
       "      <td>36</td>\n",
       "      <td>9-10</td>\n",
       "    </tr>\n",
       "  </tbody>\n",
       "</table>\n",
       "<p>142 rows × 12 columns</p>\n",
       "</div>"
      ],
      "text/plain": [
       "                   date         user  \\\n",
       "0   2023-10-05 12:34:00  Rhea Sharma   \n",
       "1   2023-10-05 12:35:00   Neha Gupta   \n",
       "2   2023-10-05 12:36:00  Rhea Sharma   \n",
       "3   2023-10-05 12:37:00   Neha Gupta   \n",
       "4   2023-10-05 12:39:00  Rhea Sharma   \n",
       "..                  ...          ...   \n",
       "137 2023-10-27 17:36:00  Rhea Sharma   \n",
       "138 2023-10-29 11:21:00  Rhea Sharma   \n",
       "139 2023-10-29 11:23:00   Neha Gupta   \n",
       "140 2023-10-30 09:34:00  Rhea Sharma   \n",
       "141 2023-10-30 09:36:00   Neha Gupta   \n",
       "\n",
       "                                               message  year  month_num  \\\n",
       "0                        Hey Neha! How's it going?\\n\\n  2023         10   \n",
       "1    Hey Rhea! I'm good. Just working today. How ab...  2023         10   \n",
       "2    Nothing much planned yet. We should do somethi...  2023         10   \n",
       "3    Yes I'm free! We definitely should plan a litt...  2023         10   \n",
       "4    Hmm maybe we could go to Goa? The beaches woul...  2023         10   \n",
       "..                                                 ...   ...        ...   \n",
       "137  Yes! Final checks on Sunday, can't wait! Europ...  2023         10   \n",
       "138  ONE more day!! See you tonight, ready for the ...  2023         10   \n",
       "139  AHHH it's actually happening!! Counting down t...  2023         10   \n",
       "140  WE MADE IT! Bonjour Paris! First day here and ...  2023         10   \n",
       "141                                                     2023         10   \n",
       "\n",
       "      only_date  day_name    month  day  hour  minute period  \n",
       "0    2023-10-05  Thursday  October    5    12      34  12-13  \n",
       "1    2023-10-05  Thursday  October    5    12      35  12-13  \n",
       "2    2023-10-05  Thursday  October    5    12      36  12-13  \n",
       "3    2023-10-05  Thursday  October    5    12      37  12-13  \n",
       "4    2023-10-05  Thursday  October    5    12      39  12-13  \n",
       "..          ...       ...      ...  ...   ...     ...    ...  \n",
       "137  2023-10-27    Friday  October   27    17      36  17-18  \n",
       "138  2023-10-29    Sunday  October   29    11      21  11-12  \n",
       "139  2023-10-29    Sunday  October   29    11      23  11-12  \n",
       "140  2023-10-30    Monday  October   30     9      34   9-10  \n",
       "141  2023-10-30    Monday  October   30     9      36   9-10  \n",
       "\n",
       "[142 rows x 12 columns]"
      ]
     },
     "execution_count": 6,
     "metadata": {},
     "output_type": "execute_result"
    }
   ],
   "source": [
    "df"
   ]
  },
  {
   "cell_type": "code",
   "execution_count": 7,
   "metadata": {},
   "outputs": [],
   "source": [
    "import torch"
   ]
  },
  {
   "cell_type": "code",
   "execution_count": 8,
   "metadata": {},
   "outputs": [
    {
     "name": "stderr",
     "output_type": "stream",
     "text": [
      "c:\\Users\\kunjs\\AppData\\Local\\Programs\\Python\\Python311\\Lib\\site-packages\\tqdm\\auto.py:21: TqdmWarning: IProgress not found. Please update jupyter and ipywidgets. See https://ipywidgets.readthedocs.io/en/stable/user_install.html\n",
      "  from .autonotebook import tqdm as notebook_tqdm\n"
     ]
    }
   ],
   "source": [
    "# summarization of chats using bert\n",
    "from transformers import AutoTokenizer, AutoModelForSeq2SeqLM   # import the tokenizer and model\n",
    "\n",
    "checkpoint = \"sshleifer/distilbart-cnn-12-6\"    # checkpoint\n",
    "\n",
    "tokenizer = AutoTokenizer.from_pretrained(checkpoint)   # load the tokenizer\n",
    "model = AutoModelForSeq2SeqLM.from_pretrained(checkpoint)       # load the model"
   ]
  },
  {
   "cell_type": "code",
   "execution_count": 9,
   "metadata": {},
   "outputs": [
    {
     "data": {
      "text/plain": [
       "1024"
      ]
     },
     "execution_count": 9,
     "metadata": {},
     "output_type": "execute_result"
    }
   ],
   "source": [
    "tokenizer.model_max_length      # print the model max length"
   ]
  },
  {
   "cell_type": "code",
   "execution_count": 10,
   "metadata": {},
   "outputs": [
    {
     "data": {
      "text/plain": [
       "1022"
      ]
     },
     "execution_count": 10,
     "metadata": {},
     "output_type": "execute_result"
    }
   ],
   "source": [
    "tokenizer.max_len_single_sentence       # print the max length of single sentence"
   ]
  },
  {
   "cell_type": "code",
   "execution_count": 11,
   "metadata": {},
   "outputs": [],
   "source": [
    "#convert series to string\n",
    "text = df['message'].str.cat(sep=' ')"
   ]
  },
  {
   "cell_type": "code",
   "execution_count": 12,
   "metadata": {},
   "outputs": [
    {
     "name": "stderr",
     "output_type": "stream",
     "text": [
      "[nltk_data] Error loading punkt: <urlopen error [WinError 10060] A\n",
      "[nltk_data]     connection attempt failed because the connected party\n",
      "[nltk_data]     did not properly respond after a period of time, or\n",
      "[nltk_data]     established connection failed because connected host\n",
      "[nltk_data]     has failed to respond>\n"
     ]
    }
   ],
   "source": [
    "import nltk    # import nltk\n",
    "nltk.download('punkt')\n",
    "sentences = nltk.sent_tokenize(text)"
   ]
  },
  {
   "cell_type": "code",
   "execution_count": 13,
   "metadata": {},
   "outputs": [
    {
     "data": {
      "text/plain": [
       "364"
      ]
     },
     "execution_count": 13,
     "metadata": {},
     "output_type": "execute_result"
    }
   ],
   "source": [
    "len(sentences)"
   ]
  },
  {
   "cell_type": "code",
   "execution_count": 14,
   "metadata": {},
   "outputs": [
    {
     "data": {
      "text/plain": [
       "[\"Hey Neha!How's it going?Hey Rhea!I'm good.Just working today.How about you?Any plans for the long weekend?Nothing much planned yet.We should do something fun though!Are you free?Yes I'm free!We definitely should plan a little getaway trip somewhere.Any ideas?Hmm maybe we could go to Goa?The beaches would be nice this time of year.Goa sounds great!We could relax on the beach and party a little at night haha.When should we go?Let's go this weekend!I can look for flights and hotels tonight.Amazing, book it!Can't wait for a girls trip, we need a vacation!Hey, I booked our flights and hotel!We're all set for Goa this weekend.Yay!Thanks for booking everything.What time is our flight?And which hotel?Our flight is at 9am on Saturday morning.And the hotel is the Grand Hyatt in North Goa.Has great reviews!Sounds good!What should we pack?Beach clothes and party outfits I'm guessing?Yes, bikinis, cover ups, sundresses!And heels and cute tops for clubbing.Don't forget sunscreen!Got it.\",\n",
       " \"I'm so excited, we're going to have the best time!Should we book any activities?Hm we could book a boat cruise one day to see the islands.And maybe parasailing!We'll plan the activities when we get there.Good idea, we can decide once we see what's available.Let's meet Friday evening to pack?Sounds good!I'll come to your place after work around 6.This trip is going to be amazing!!Woohoo Goa 2023 here we come!!See you Friday :)\\n\\n Good morning!How was the first night in Goa?GM!It was fabulous.The hotel is so nice and our room has an awesome view.How about you?I slept like a baby!My room is great too.Should we grab breakfast at the hotel cafe?Yes I'm starving!Meet you there in 10?Then we can head to the beach.Sounds good, see you soon!The beach was so much fun today!That lunch by the shack was delicious.I know right!The seafood was so fresh.We really needed this beach vacation.Yes we work so hard, it's nice to just relax!What should we do for dinner tonight?Hmm maybe we could check out that night market and street food stalls?Oooh that sounds fun!\",\n",
       " \"We can try a bunch of local dishes.I'm in!Let's do it!We have to try the Goan fish curry and vindaloo.My mouth is watering just thinking about it!Great idea, I can't wait!Let's meet in the lobby at 8 pm?Sounds good!Enjoy the rest of our beach day, see you tonight!Omg that street food was incredible!I ate way too much haha\\n\\n Me too, that was such a fun experience!The live music was so good as well.Yes!The vibe was so lively.I'm glad we decided to check it out.What's the plan for tomorrow?Let's take it easy in the morning after all that food.Maybe a boat cruise at noon?Boat cruise sounds perfect!Maybe we can pack a picnic lunch from the hotel.Good idea!Let's do that.Get some rest, chat tomorrow :)\\n\\n Good morning!I'm ready whenever you are for the boat cruise.GM!I just got ready, let's meet in the lobby in 10 mins?Our picnic basket is ready too.Sounds good see you soon!This is going to be so much fun!That cruise was amazing!The islands were so beautiful.I know right!Going swimming in that cove with the clear water was the highlight.\",\n",
       " \"Yes that was incredible.This trip has been so great already!What now?Hmm want to check out the nightlife tonight?We could bar hop and dance!I'm so down for that!!Let's get dressed up.I saw some cool rooftop bars and clubs.Yay let's do it!Meet in the lobby at 10pm?Then we can party the night away!Sounds perfect, can't wait!See you at 10!Wow last night was wild!My feet are killing me from all the dancing haha\\n\\n Omg I'm exhausted too but it was so worth it!We raged until 4am lol.Let's sleep in today.Yes!Room service breakfast in bed kind of day.Just relax and recover today.Perfect plan!Goodnight, talk tomorrow when we're alive again lol\\n\\n Good afternoon!I'm finally feeling awake haha.Last night was epic.Hey!I know, we really packed in the full Goa experience.What's left on our list before we leave?Hm I think we've done everything!Maybe a chill beach evening today?Cocktails and sunset?That sounds so nice!A relaxing last day.I'll meet you on the beach around 5?Perfect!Can't wait.\",\n",
       " \"This trip went by too fast but it was exactly what we needed!So true, it was the best getaway!Back to real life tomorrow but at least we're tan and rested now haha.Haha yes!Let's plan another trip soon, maybe the mountains next!Oooh yes, that would be amazing!Can't wait for our next adventure :) See you at 5!That was such a beautiful sunset!The perfect ending to our Goa trip.I know, it was gorgeous!And the cocktails were so refreshing.I'm sad we have to head home tomorrow.Me too, this was exactly the girls getaway we needed.We'll have to plan the next one soon!Absolutely!Maybe we can do a Europe trip next year?I've always wanted to see Spain.Spain sounds incredible!We could hit up Ibiza too for the nightlife.Let's start planning!Yay!We could do Barcelona, Madrid, Ibiza... maybe even Italy too!I'm so excited already.Amazing idea!We'll make an epic 2 week Eurotrip itinerary.This gives me something to look forward to!Me too!We have to start researching flights and hotels.European vacation 2024 here we come!Woo!\",\n",
       " \"This Goa trip may be over but now we have our next adventure to plan.Thanks for always being the best travel buddy!Aww thanks!You're the best too, I can't wait for our next getaway.See you tomorrow for our flight!Can't wait!Have a good night.Next stop - Europe!🛫✈️🌍\\n\\n Goodnight!EU trip planning starts as soon as we're back!😀💃🏻🕺🏻\\n\\n Morning!How was your flight back?I'm already missing Goa.Hey!Flight was fine, though it's sad to be back.At least we have Europe planning to look forward to!Yes, that's the perfect antidote to post-vacation blues!Let's video chat tonight to discuss?Sounds good!Let's look up flight options and start deciding which cities to visit.This is so exciting!Video call between Rhea and Neha\\n\\n That was a great planning session!I'm feeling inspired.Me too!Looks like we can get a pretty good deal on flights if we book in advance.Yes, and I love the cities we picked!Barcelona, Madrid, Paris, Venice, Rome!It's going to be the trip of a lifetime!Let's start looking for Airbnbs in each city.Good idea.Should we do 3 nights in each or mix it up?\",\n",
       " \"I'm leaning towards 3 everywhere.Yeah 3 nights sounds good, enough time to see the sights without rushing too much.Found some great Airbnb options for each city!Sending you links to look through.Checking now!These apartments are so cute.Love the ones with balconies and rooftop access.I know right?And way cheaper than hotels!Should we go ahead and book them?Let's do it!I'm too excited, I wanna lock this trip in.We can sort flights next.Amazing!Just booked all our Airbnbs, this is really happening!!🎉🎊\\n\\n Hey!Wanted your opinion - I found a pretty good deal on flights if we go in May instead of April.Ooh May could work!The weather might be nicer too.Did you find direct flights?Yup direct from Delhi to Barcelona then Venice to Paris etc.Want me to book?Yes let's do it!Locking in flights will make this feel so real.May can't come soon enough!Yay it's booked!Europe 2024 is officially happening!!😄🥳 Can't wait to explore with my favourite travel buddy!You know what we should do?\",\n",
       " \"Make a shared Pinterest board to pin places we want to see, food to eat, outfits to pack!Oooh smart idea!We can use it to plan out each city.Let me make one!Yay this is perfect!Already finding so many great restaurants and photo ops.Pinning away now!Obsessed with our Pinterest board!Can't stop pinning all the things.This trip is going to be epic.I know right?It's the perfect trip planning tool.7 months to go!Better start prepping those outfits.Yes!Time to hit the shops this weekend for cute Eurotrip clothes inspo.Drinks later to celebrate?I'm in!Cocktail cheers to Europe 2024!🍹 See you tonight at 8?Last night was so much fun!The cocktail toast to our trip was perfect.Only 6 months to go now!🥂✈️\\n\\n I know right?It's going to fly by.At least we have the Pinterest board to obsess over in the meantime!😄\\n\\n Haha yes!I think you have some new outfit pins to check out from my shopping yesterday.Only the essentials, of course!Oooh can't wait to see!I added some pins too.We are going to be the most stylish travelers ever.😎💃🏻\\n\\n Can you believe it's only 5 months until Europe?!\",\n",
       " \"Are you all set with vacation days from work?I know, it's coming up quick!Yup got all my days approved, I'm all set.Need help booking time off?Nope I'm good!Managed to get 2 weeks off.Now we just have to survive the next few months of waiting!Morning!Had a thought - should we learn some basic French and Italian phrases before the trip?Could be helpful!That's a great idea!We should practice common travel phrases so we can navigate easily.Where should we start?I found some helpful YouTube videos for Italian and French phrases/conversation.Let's watch them together this weekend?Perfect plan!We'll be chatting away with the locals in no time.Ciao bella!😄👌🏻\\n\\n 4 months to go!We should think about packing essentials so we're prepared.What do you think?Great idea!We need to pack light and smart.I was thinking packing cubes?And phone chargers with adapters!Ooh yes, packing cubes are a must!And definitely adapters.comfort shoes too for all the walking we'll do!Very true!I'll make a notes list on my phone of stuff to pack.This trip is going to be amazing!!\",\n",
       " \"😍🤩\\n\\n Made a packing list note for us to add to!Also need to think about booking any activities we want to do in advance.Good thinking!Let's browse GetYourGuide for the best museums, walking tours, day trips etc for each city.Perfect, I'm on it!Will send you options to review this weekend.Safety first so we should book private airport transfers too.Definitely, safety first!This trip planning has been so fun, 3 months feels so close.This is going to be the best girls trip!Hey!Came across a good Eurail pass deal for train travel between cities.Should we get it?Oooh yes that would be perfect!Much easier than booking each leg separately.Is it a flexible pass?Yup!We can choose the travel dates and routes later no problem.And unlimited train rides for 2 weeks!Amazing, let's do it!That takes care of getting around.2 months and counting, woohoo!🥳\\n\\n Rise and shine!I was too excited this morning and made uslittle Europe 2024 countdown calendars!Sending you a pic 😄\\n\\n Omg I love this!!Now we can cross off the days till our trip.You're the best, only 50 days to go!!\",\n",
       " \"Can you believe we leave in just 1 month?!I'm trying to learn some key Italian phrases but it's hard!I know, so soon!The Italian is tricky but we'll get there.Here are some easy phrase videos to watch!Look what I got us!Matching neck pillows for the long flights!Now we can nap in style 😂💤✈️\\n\\n Omg yes!These are perfect, you know me so well.25 days to go, can't wait to explore with my fave travel buddy!Is it too early to start packing?I want to be über prepared!Maybe just organize toiletries and chargers for now.Haha go for it!I'm doing the same, gathering all my travel essentials.Only 3 weeks left, eeek!!🤗\\n\\n Rise and shine, beautiful!Only 2 weeks until Europe!Let's meet up tonight to finalize everything?Gooood morning!Yes, final prep tonight!Feels so close now, can't wait!😄✈️\\n\\n Video call between Rhea and Neha to discuss last minute trip planing\\n\\n 1 week to go!Made an EPIC Europe playlist for the trip!Sending you the Spotify link.Yay perfect!All our planning has paid off, can't believe we leave next week.Counting down the days!⏳\\n\\n Eek 6 days left!\",\n",
       " \"Let's meet Sunday to do a final pack and go over all details?So excited!!🎉\\n\\n Yes!Final checks on Sunday, can't wait!Europe 2024 here we come!!🛫✈️😍\\n\\n ONE more day!!See you tonight, ready for the best girls trip ever?Spain, here we come!✌️😎🥂\\n\\n AHHH it's actually happening!!Counting down the minutes, see you later bestie!Let the adventures begin!💃🏻🕺🏻🌍🗼👯\\u200d♀️\\n\\n WE MADE IT!Bonjour Paris!First day here and already in love.The crepes and croissants deserve their own food tour.🥐😍\"]"
      ]
     },
     "execution_count": 14,
     "metadata": {},
     "output_type": "execute_result"
    }
   ],
   "source": [
    "length = 0     # initialize length\n",
    "chunk = \"\"   # initialize chunk\n",
    "chunks = []    # initialize chunks\n",
    "count = -1   # initialize count\n",
    "\n",
    "for sentence in sentences:  # loop through the sentences\n",
    "    length += len(sentence)    # add the length of the sentence\n",
    "    if length < 1024:   # if length is less than 1024\n",
    "        chunk += sentence   # add the sentence to chunk\n",
    "    else:\n",
    "        chunks.append(chunk)    # append the chunk to chunks\n",
    "        chunk = \"\"  # initialize chunk\n",
    "        length = 0  # initialize length\n",
    "        count += 1  # increment count\n",
    "        chunk += sentence   # add the sentence to chunk\n",
    "\n",
    "chunks.append(chunk)    # append the chunk to chunks\n",
    "\n",
    "len(chunks)     # print the length of chunks\n",
    "\n",
    "chunks"
   ]
  },
  {
   "cell_type": "code",
   "execution_count": 15,
   "metadata": {},
   "outputs": [
    {
     "data": {
      "text/plain": [
       "\" Neha and Rhea are planning a girls trip to Goa this weekend. Neha booked their flights and hotel and booked their flight to North Goa. Rhea is looking forward to a long weekend away with her and Neha. She says she and her friends need a girls' getaway somewhere.  Goa 2023 is going to be amazing! I'm so excited, we're going to have the best time! We could book a boat cruise one day to see the islands and maybe parasailing. We'll plan the activities when we get there. Let's meet Friday evening to pack?Sounds good! I'll come to your place after work.  The Goan fish curry and vindaloo was the highlight of our beach day. We can try a bunch of local dishes. Let's take it easy in the morning after all that food. Maybe a boat cruise at noon? Maybe we can pack a picnic lunch from the hotel.  What's left on our list before we leave?Hm I think we've done everything! Maybe a chill beach evening today?Cocktails and sunset?That sounds so nice! I'll meet you on the beach around 5?Perfect! Can't wait! Meet in the lobby at 10pm?Then we can party the night away!  This trip went by too fast but it was exactly what we needed! Back to real life tomorrow but at least we're tan and rested now haha. Maybe we can do a Europe trip next year? I've always wanted to see Spain. We could do Barcelona, Madrid, Ibiza... maybe even Italy too!  Goa trip may be over but now we have our next adventure to plan. Let's look up flight options and start deciding which cities to visit. Barcelona, Madrid, Paris, Venice, Rome! It's going to be the trip of a lifetime! Rhea and Neha plan to go to Europe as soon as possible.  Found some great Airbnb options for each city. 3 nights sounds good, enough time to see the sights without rushing too much. I'm leaning towards 3 everywhere. I found a pretty good deal on flights if we go in May instead of April. May can't come soon enough! Can't wait to explore with my favourite travel buddy!  Make a shared Pinterest board to pin places we want to see, food to eat, outfits to pack! Oooh smart idea! We can use it to plan out each city. 7 months to go!Better start prepping those outfits. Time to hit the shops this weekend for cute Eurotrip clothes.  Should we learn some basic French and Italian phrases before the trip? Could be helpful! We should practice common travel phrases so we can navigate easily. We need to pack light and smart, packing cubes and phone chargers are a must. We'll be chatting away with the locals in no time!  2 months and counting, woohoo! I was too excited this morning and made uslittle Europe 2024 countdown calendars. We need to think about booking any activities we want to do in advance. Make a packing list note for us to add to! Will send you options to review this weekend.  25 days to go, can't wait to explore with my fave travel buddy. Can't believe we leave in just 1 month?! I'm trying to learn some key Italian phrases but it's hard!I know, so soon! The Italian is tricky but we'll get there.  Let's meet Sunday to do a final pack and go over all details? So excited! Europe 2024 here we come!! See you tonight, ready for the best girls trip ever? Spain is the next step in the road to Europe 2024. See you later, see you later bestie!\""
      ]
     },
     "execution_count": 15,
     "metadata": {},
     "output_type": "execute_result"
    }
   ],
   "source": [
    "# summarize the chunks\n",
    "summaries = []\n",
    "for chunk in chunks:\n",
    "    input_ids = tokenizer.encode(chunk, return_tensors='pt', max_length=1024, truncation=True)   # encode the chunk\n",
    "    output = model.generate(input_ids, max_length=100, num_beams=5, early_stopping=True)    # generate the summary\n",
    "    summary = tokenizer.decode(output[0], skip_special_tokens=True)    # decode the summary\n",
    "    summaries.append(summary)   # append the summary\n",
    "\n",
    "# join the summaries\n",
    "summary = ' '.join(summaries)   # join the summaries\n",
    "\n",
    "summary"
   ]
  },
  {
   "cell_type": "markdown",
   "metadata": {},
   "source": [
    "### Training Basic Bert"
   ]
  },
  {
   "cell_type": "code",
   "execution_count": 16,
   "metadata": {},
   "outputs": [],
   "source": [
    "from transformers import BertTokenizer  # import the tokenizer\n",
    "\n",
    "tokenizer = BertTokenizer.from_pretrained('bert-base-uncased')  # load the tokenizer\n",
    "\n",
    "def load_dataset(file_path):\n",
    "    with open(file_path, 'r') as file:  # open the file\n",
    "        lines = file.readlines()    # read the lines\n",
    "    tokenized_lines = [tokenizer.encode(line) for line in lines]        # tokenize the lines\n",
    "    return tokenized_lines    # return the tokenized lines"
   ]
  },
  {
   "cell_type": "code",
   "execution_count": 19,
   "metadata": {},
   "outputs": [],
   "source": [
    "from transformers import LineByLineTextDataset\n",
    "\n",
    "dataset = LineByLineTextDataset(    # create a dataset\n",
    "    tokenizer=tokenizer,    # tokenizer\n",
    "    file_path=\"D:\\Documents\\ML Projects\\WhatsApp Chat Analyzer\\chats\\Chat1.txt\",    # file path\n",
    "    block_size=128,    # block size\n",
    ")"
   ]
  },
  {
   "cell_type": "code",
   "execution_count": 20,
   "metadata": {},
   "outputs": [],
   "source": [
    "from transformers import DataCollatorForLanguageModeling\n",
    "\n",
    "data_collator = DataCollatorForLanguageModeling(    # create a data collator\n",
    "    tokenizer=tokenizer, mlm=True, mlm_probability=0.15   # tokenizer, mlm, mlm probability\n",
    ")"
   ]
  },
  {
   "cell_type": "code",
   "execution_count": 21,
   "metadata": {},
   "outputs": [],
   "source": [
    "from transformers import BertConfig, BertForMaskedLM\n",
    "\n",
    "config = BertConfig(\n",
    "    vocab_size=tokenizer.vocab_size,    # vocab size\n",
    ")\n",
    "\n",
    "model = BertForMaskedLM(config=config)  # create a model"
   ]
  },
  {
   "cell_type": "code",
   "execution_count": 22,
   "metadata": {},
   "outputs": [],
   "source": [
    "from transformers import Trainer, TrainingArguments\n",
    "\n",
    "training_args = TrainingArguments(      # create training arguments\n",
    "    output_dir=\"./bert_from_scratch\",       # output directory\n",
    "    overwrite_output_dir=True,      # overwrite the content of the output directory\n",
    "    num_train_epochs=1,     # number of training epochs\n",
    "    per_device_train_batch_size=64,     # batch size for training\n",
    "    save_steps=10_000,      # number of steps before saving          \n",
    "    save_total_limit=2,     # limit the total amount of checkpoints\n",
    ")\n",
    "\n",
    "trainer = Trainer(      # create a trainer\n",
    "    model=model,        # the instantiated 🤗 Transformers model to be trained\n",
    "    args=training_args,     # training arguments, defined above\n",
    "    data_collator=data_collator,    # data collator\n",
    "    train_dataset=dataset,      # training dataset\n",
    ")"
   ]
  },
  {
   "cell_type": "code",
   "execution_count": null,
   "metadata": {},
   "outputs": [
    {
     "name": "stderr",
     "output_type": "stream",
     "text": [
      "100%|██████████| 114/114 [2:05:33<00:00, 66.08s/it] \n"
     ]
    },
    {
     "name": "stdout",
     "output_type": "stream",
     "text": [
      "{'train_runtime': 7533.5675, 'train_samples_per_second': 0.964, 'train_steps_per_second': 0.015, 'train_loss': 5.8988486842105265, 'epoch': 1.0}\n"
     ]
    }
   ],
   "source": [
    "# from accelerate import Accelerator    # import the accelerator\n",
    "# trainer.train()   # train the model\n",
    "# trainer.save_model('./bert_from_scratch')  # save the model"
   ]
  },
  {
   "cell_type": "code",
   "execution_count": 23,
   "metadata": {},
   "outputs": [],
   "source": [
    "from transformers import pipeline\n",
    "\n",
    "model = BertForMaskedLM.from_pretrained('./bert_from_scratch')      # load the model\n",
    "\n",
    "\n",
    "fill_mask = pipeline(       # create a pipeline\n",
    "    \"fill-mask\",\n",
    "    model=model,\n",
    "    tokenizer=tokenizer\n",
    ")"
   ]
  },
  {
   "cell_type": "code",
   "execution_count": 24,
   "metadata": {},
   "outputs": [
    {
     "data": {
      "text/plain": [
       "[{'score': 0.09875480830669403,\n",
       "  'token': 1013,\n",
       "  'token_str': '/',\n",
       "  'sequence': 'what are we / to do?'},\n",
       " {'score': 0.011641875840723515,\n",
       "  'token': 1024,\n",
       "  'token_str': ':',\n",
       "  'sequence': 'what are we : to do?'},\n",
       " {'score': 0.008726079948246479,\n",
       "  'token': 1012,\n",
       "  'token_str': '.',\n",
       "  'sequence': 'what are we. to do?'},\n",
       " {'score': 0.005796629935503006,\n",
       "  'token': 1010,\n",
       "  'token_str': ',',\n",
       "  'sequence': 'what are we, to do?'},\n",
       " {'score': 0.00354193733073771,\n",
       "  'token': 2340,\n",
       "  'token_str': '11',\n",
       "  'sequence': 'what are we 11 to do?'}]"
      ]
     },
     "execution_count": 24,
     "metadata": {},
     "output_type": "execute_result"
    }
   ],
   "source": [
    "fill_mask('What are we [MASK] to do?')      # predict the masked word"
   ]
  },
  {
   "cell_type": "markdown",
   "metadata": {},
   "source": [
    "### Using Bart from Facebook"
   ]
  },
  {
   "cell_type": "code",
   "execution_count": 25,
   "metadata": {},
   "outputs": [
    {
     "name": "stderr",
     "output_type": "stream",
     "text": [
      "Downloading pytorch_model.bin: 100%|██████████| 1.63G/1.63G [07:41<00:00, 3.52MB/s]\n",
      "c:\\Users\\kunjs\\AppData\\Local\\Programs\\Python\\Python311\\Lib\\site-packages\\huggingface_hub\\file_download.py:133: UserWarning: `huggingface_hub` cache-system uses symlinks by default to efficiently store duplicated files but your machine does not support them in C:\\Users\\kunjs\\.cache\\huggingface\\hub. Caching files will still work but in a degraded version that might require more space on your disk. This warning can be disabled by setting the `HF_HUB_DISABLE_SYMLINKS_WARNING` environment variable. For more details, see https://huggingface.co/docs/huggingface_hub/how-to-cache#limitations.\n",
      "To support symlinks on Windows, you either need to activate Developer Mode or to run Python as an administrator. In order to see activate developer mode, see this article: https://docs.microsoft.com/en-us/windows/apps/get-started/enable-your-device-for-development\n",
      "  warnings.warn(message)\n",
      "Downloading (…)neration_config.json: 100%|██████████| 363/363 [00:00<00:00, 97.8kB/s]\n"
     ]
    },
    {
     "name": "stdout",
     "output_type": "stream",
     "text": [
      "Neha and Rhea are planning a girls trip to Goa for the long weekend. Neha booked their flights and hotel and they are all set for Goa this weekend. The hotel is the Grand Hyatt in North Goa and the flight is at 9am on Saturday. I'm so excited, we're going to have the best time!Should we book any activities?Hm we could book a boat cruise one day to see the islands.And maybe parasailing!We'll plan the activities when we get there.Let's meet Friday evening to pack?Sounds good!I'll come to your place after work around 6.Woohoo Goa 2023 here we come!!See you Friday :) Omg that street food was incredible!I ate way too much haha Me too, that was such a fun experience!The live music was so good as well.What's the plan for tomorrow?Let's take it easy in the morning after all that food.Maybe a boat cruise at noon?Boat cruise sounds perfect!Maybe we can pack a picnic lunch from the hotel.I'm in!Let's do it!We have to try the Goan fish curry and vind Last night was wild!My feet are killing me from all the dancing haha Omg I'm exhausted too but it was so worth it!We raged until 4am lol. Maybe a chill beach evening today?Cocktails and sunset?That sounds so nice!A relaxing last day. Can't wait. This trip went by too fast but it was exactly what we needed! Back to real life tomorrow but at least we're tan and rested now haha. Let's plan another trip soon, maybe the mountains next!Oooh yes, that would be amazing!Can't wait for our next adventure :) See you at 5! Video call between Rhea and Neha is the perfect antidote to post-vacation blues. Barcelona, Madrid, Paris, Venice, Rome! It's going to be the trip of a lifetime! Let's start looking for Airbnbs in each city.Should we do 3 nights in each or mix it up? Found some great Airbnb options for each city!Sending you links to look through.Checking now!These apartments are so cute.Love the ones with balconies and rooftop access.I'm leaning towards 3 everywhere.Yeah 3 nights sounds good, enough time to see the sights without rushing too much. Make a shared Pinterest board to pin places we want to see, food to eat, outfits to pack!Oooh smart idea!We can use it to plan out each city.7 months to go!Better start prepping those outfits. Time to hit the shops this weekend for cute Eurotrip clothes inspo. We should practice common travel phrases so we can navigate easily. I found some helpful YouTube videos for Italian and French phrases/conversation. I'll make a notes list on my phone of stuff to pack. I was thinking packing cubes? And phone chargers with adapters!Ooh yes, packing cubes are a must! And definitely adapters.comfort shoes too for all the walking we'll do. 2 months and counting, woohoo! Rise and shine! I was too excited this morning and made uslittle Europe 2024 countdown calendars. Only 50 days to go!!You're the best, only 50 days till our trip. You're theBest. I love you. Can you believe we leave in just 1 month?!I'm trying to learn some key Italian phrases but it's hard!I know, so soon!The Italian is tricky but we'll get there.Look what I got us!Matching neck pillows for the long flights!Now we can nap in style! Let's meet Sunday to do a final pack and go over all details?So excited!! Yes!Final checks on Sunday, can't wait!Europe 2024 here we come!! One more day!!See you tonight, ready for the best girls trip ever? Spain, here wecome!\n"
     ]
    }
   ],
   "source": [
    "# Load a different model and tokenizer\n",
    "new_checkpoint = \"facebook/bart-large-cnn\"\n",
    "\n",
    "new_tokenizer = AutoTokenizer.from_pretrained(new_checkpoint)\n",
    "new_model = AutoModelForSeq2SeqLM.from_pretrained(new_checkpoint)\n"
   ]
  },
  {
   "cell_type": "code",
   "execution_count": 26,
   "metadata": {},
   "outputs": [],
   "source": [
    "# Tokenize and generate summaries using the new model\n",
    "new_summaries = []\n",
    "\n",
    "for chunk in chunks:\n",
    "    input_ids = new_tokenizer.encode(chunk, return_tensors='pt', max_length=1024, truncation=True)\n",
    "    output = new_model.generate(input_ids, max_length=100, num_beams=5, early_stopping=True)\n",
    "    summary = new_tokenizer.decode(output[0], skip_special_tokens=True)\n",
    "    new_summaries.append(summary)\n",
    "\n",
    "# Join the summaries\n",
    "new_summary = ' '.join(new_summaries)"
   ]
  },
  {
   "cell_type": "code",
   "execution_count": 27,
   "metadata": {},
   "outputs": [
    {
     "name": "stdout",
     "output_type": "stream",
     "text": [
      "Neha and Rhea are planning a girls trip to Goa for the long weekend. Neha booked their flights and hotel and they are all set for Goa this weekend. The hotel is the Grand Hyatt in North Goa and the flight is at 9am on Saturday. I'm so excited, we're going to have the best time!Should we book any activities?Hm we could book a boat cruise one day to see the islands.And maybe parasailing!We'll plan the activities when we get there.Let's meet Friday evening to pack?Sounds good!I'll come to your place after work around 6.Woohoo Goa 2023 here we come!!See you Friday :) Omg that street food was incredible!I ate way too much haha Me too, that was such a fun experience!The live music was so good as well.What's the plan for tomorrow?Let's take it easy in the morning after all that food.Maybe a boat cruise at noon?Boat cruise sounds perfect!Maybe we can pack a picnic lunch from the hotel.I'm in!Let's do it!We have to try the Goan fish curry and vind Last night was wild!My feet are killing me from all the dancing haha Omg I'm exhausted too but it was so worth it!We raged until 4am lol. Maybe a chill beach evening today?Cocktails and sunset?That sounds so nice!A relaxing last day. Can't wait. This trip went by too fast but it was exactly what we needed! Back to real life tomorrow but at least we're tan and rested now haha. Let's plan another trip soon, maybe the mountains next!Oooh yes, that would be amazing!Can't wait for our next adventure :) See you at 5! Video call between Rhea and Neha is the perfect antidote to post-vacation blues. Barcelona, Madrid, Paris, Venice, Rome! It's going to be the trip of a lifetime! Let's start looking for Airbnbs in each city.Should we do 3 nights in each or mix it up? Found some great Airbnb options for each city!Sending you links to look through.Checking now!These apartments are so cute.Love the ones with balconies and rooftop access.I'm leaning towards 3 everywhere.Yeah 3 nights sounds good, enough time to see the sights without rushing too much. Make a shared Pinterest board to pin places we want to see, food to eat, outfits to pack!Oooh smart idea!We can use it to plan out each city.7 months to go!Better start prepping those outfits. Time to hit the shops this weekend for cute Eurotrip clothes inspo. We should practice common travel phrases so we can navigate easily. I found some helpful YouTube videos for Italian and French phrases/conversation. I'll make a notes list on my phone of stuff to pack. I was thinking packing cubes? And phone chargers with adapters!Ooh yes, packing cubes are a must! And definitely adapters.comfort shoes too for all the walking we'll do. 2 months and counting, woohoo! Rise and shine! I was too excited this morning and made uslittle Europe 2024 countdown calendars. Only 50 days to go!!You're the best, only 50 days till our trip. You're theBest. I love you. Can you believe we leave in just 1 month?!I'm trying to learn some key Italian phrases but it's hard!I know, so soon!The Italian is tricky but we'll get there.Look what I got us!Matching neck pillows for the long flights!Now we can nap in style! Let's meet Sunday to do a final pack and go over all details?So excited!! Yes!Final checks on Sunday, can't wait!Europe 2024 here we come!! One more day!!See you tonight, ready for the best girls trip ever? Spain, here wecome!\n"
     ]
    }
   ],
   "source": [
    "print(new_summary)"
   ]
  }
 ],
 "metadata": {
  "kernelspec": {
   "display_name": "Python 3",
   "language": "python",
   "name": "python3"
  },
  "language_info": {
   "codemirror_mode": {
    "name": "ipython",
    "version": 3
   },
   "file_extension": ".py",
   "mimetype": "text/x-python",
   "name": "python",
   "nbconvert_exporter": "python",
   "pygments_lexer": "ipython3",
   "version": "3.11.5"
  }
 },
 "nbformat": 4,
 "nbformat_minor": 2
}
